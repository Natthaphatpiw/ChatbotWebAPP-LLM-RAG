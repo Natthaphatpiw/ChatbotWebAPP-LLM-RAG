{
 "cells": [
  {
   "cell_type": "code",
   "execution_count": 1,
   "metadata": {},
   "outputs": [
    {
     "name": "stdout",
     "output_type": "stream",
     "text": [
      "ss\n"
     ]
    }
   ],
   "source": [
    "print(\"ss\")"
   ]
  },
  {
   "cell_type": "code",
   "execution_count": 2,
   "metadata": {},
   "outputs": [
    {
     "data": {
      "text/plain": [
       "'/Users/pp/Downloads/data_s_project/new-med/research'"
      ]
     },
     "execution_count": 2,
     "metadata": {},
     "output_type": "execute_result"
    }
   ],
   "source": [
    "%pwd"
   ]
  },
  {
   "cell_type": "code",
   "execution_count": 3,
   "metadata": {},
   "outputs": [],
   "source": [
    "import os\n",
    "os.chdir(\"../\")"
   ]
  },
  {
   "cell_type": "code",
   "execution_count": 4,
   "metadata": {},
   "outputs": [
    {
     "data": {
      "text/plain": [
       "'/Users/pp/Downloads/data_s_project/new-med'"
      ]
     },
     "execution_count": 4,
     "metadata": {},
     "output_type": "execute_result"
    }
   ],
   "source": [
    "%pwd"
   ]
  },
  {
   "cell_type": "code",
   "execution_count": 5,
   "metadata": {},
   "outputs": [],
   "source": [
    "from langchain.document_loaders import PyPDFLoader, DirectoryLoader\n",
    "from langchain.text_splitter import RecursiveCharacterTextSplitter"
   ]
  },
  {
   "cell_type": "code",
   "execution_count": 6,
   "metadata": {},
   "outputs": [],
   "source": [
    "def load_pdf_file(data):\n",
    "    loader = DirectoryLoader(\n",
    "        data,\n",
    "        glob=\"*.pdf\",\n",
    "        loader_cls=PyPDFLoader\n",
    "    )\n",
    "\n",
    "    documents = loader.load()\n",
    "\n",
    "    return documents"
   ]
  },
  {
   "cell_type": "code",
   "execution_count": 7,
   "metadata": {},
   "outputs": [
    {
     "name": "stdout",
     "output_type": "stream",
     "text": [
      "44.0.2\n"
     ]
    }
   ],
   "source": [
    "import cryptography\n",
    "print(cryptography.__version__)\n"
   ]
  },
  {
   "cell_type": "code",
   "execution_count": 8,
   "metadata": {},
   "outputs": [],
   "source": [
    "extrac_data = load_pdf_file(data= 'Data/')"
   ]
  },
  {
   "cell_type": "code",
   "execution_count": 10,
   "metadata": {},
   "outputs": [],
   "source": [
    "def text_split(extrac_data):\n",
    "    text_splitter = RecursiveCharacterTextSplitter(chunk_size = 500, chunk_overlap = 20)\n",
    "    text_chunk = text_splitter.split_documents(extrac_data)\n",
    "    return text_chunk"
   ]
  },
  {
   "cell_type": "code",
   "execution_count": 11,
   "metadata": {},
   "outputs": [],
   "source": [
    "text_chunk = text_split(extrac_data)"
   ]
  },
  {
   "cell_type": "code",
   "execution_count": 13,
   "metadata": {},
   "outputs": [],
   "source": [
    "from langchain.embeddings import HuggingFaceEmbeddings"
   ]
  },
  {
   "cell_type": "code",
   "execution_count": 14,
   "metadata": {},
   "outputs": [],
   "source": [
    "def download_embedding_model():\n",
    "    embedding = HuggingFaceEmbeddings(model_name='sentence-transformers/all-MiniLM-L6-v2') #384 dim\n",
    "    return embedding"
   ]
  },
  {
   "cell_type": "code",
   "execution_count": null,
   "metadata": {},
   "outputs": [
    {
     "name": "stderr",
     "output_type": "stream",
     "text": [
      "/var/folders/ry/k17pgbd96dd4cmyphsg8_5kr0000gn/T/ipykernel_85397/2201451085.py:2: LangChainDeprecationWarning: The class `HuggingFaceEmbeddings` was deprecated in LangChain 0.2.2 and will be removed in 1.0. An updated version of the class exists in the :class:`~langchain-huggingface package and should be used instead. To use it run `pip install -U :class:`~langchain-huggingface` and import as `from :class:`~langchain_huggingface import HuggingFaceEmbeddings``.\n",
      "  embedding = HuggingFaceEmbeddings(model_name='sentence-transformers/all-MiniLM-L6-v2') #384 dim\n",
      "/Users/pp/Downloads/data_s_project/new-med/.venv/lib/python3.13/site-packages/tqdm/auto.py:21: TqdmWarning: IProgress not found. Please update jupyter and ipywidgets. See https://ipywidgets.readthedocs.io/en/stable/user_install.html\n",
      "  from .autonotebook import tqdm as notebook_tqdm\n"
     ]
    }
   ],
   "source": [
    "embedding = download_embedding_model()"
   ]
  },
  {
   "cell_type": "code",
   "execution_count": 16,
   "metadata": {},
   "outputs": [
    {
     "name": "stdout",
     "output_type": "stream",
     "text": [
      "384\n"
     ]
    }
   ],
   "source": [
    "query_results = embedding.embed_query(\"PiwPiw\")\n",
    "print(len(query_results))"
   ]
  },
  {
   "cell_type": "code",
   "execution_count": 40,
   "metadata": {},
   "outputs": [],
   "source": [
    "from dotenv import load_dotenv\n",
    "load_dotenv()\n",
    "\n",
    "PINECONE_API_KEY = os.environ.get('PINECONE_API_KEY')\n",
    "OPENAI_API_KEY = os.environ.get('OPENAI_API_KEY')\n",
    "HUGGINGFACE_API_KEY = os.environ.get('HUGGINGFACE_API_KEY')"
   ]
  },
  {
   "cell_type": "code",
   "execution_count": 18,
   "metadata": {},
   "outputs": [],
   "source": [
    "from pinecone.grpc import PineconeGRPC as Pinecone\n",
    "from pinecone import ServerlessSpec\n",
    "import os\n",
    "\n",
    "pc = Pinecone(api_key= PINECONE_API_KEY)\n",
    "\n",
    "index_name = \"vetbot\"\n",
    "\n",
    "pc.create_index(\n",
    "    name=index_name,\n",
    "    dimension=384, # Replace with your model dimensions\n",
    "    metric=\"cosine\", # Replace with your model metric\n",
    "    spec=ServerlessSpec(\n",
    "        cloud=\"aws\",\n",
    "        region=\"us-east-1\"\n",
    "    ) \n",
    ")"
   ]
  },
  {
   "cell_type": "code",
   "execution_count": 41,
   "metadata": {},
   "outputs": [],
   "source": [
    "import os\n",
    "os.environ[\"PINECONE_API_KEY\"] = PINECONE_API_KEY\n",
    "os.environ[\"OPENAI_API_KEY\"] = OPENAI_API_KEY\n",
    "os.environ[\"HUGGINGFACE_API_KEY\"] = HUGGINGFACE_API_KEY"
   ]
  },
  {
   "cell_type": "code",
   "execution_count": 21,
   "metadata": {},
   "outputs": [],
   "source": [
    "from langchain_pinecone import PineconeVectorStore\n",
    "\n",
    "docsearch = PineconeVectorStore.from_documents(\n",
    " documents= text_chunk,\n",
    " index_name= index_name,\n",
    " embedding= embedding\n",
    ")"
   ]
  },
  {
   "cell_type": "code",
   "execution_count": 25,
   "metadata": {},
   "outputs": [],
   "source": [
    "from langchain_pinecone import PineconeVectorStore\n",
    "\n",
    "docsearch = PineconeVectorStore.from_existing_index(\n",
    " index_name= index_name,\n",
    " embedding= embedding\n",
    ")"
   ]
  },
  {
   "cell_type": "code",
   "execution_count": 26,
   "metadata": {},
   "outputs": [
    {
     "data": {
      "text/plain": [
       "<langchain_pinecone.vectorstores.PineconeVectorStore at 0x151b6bc50>"
      ]
     },
     "execution_count": 26,
     "metadata": {},
     "output_type": "execute_result"
    }
   ],
   "source": [
    "docsearch"
   ]
  },
  {
   "cell_type": "code",
   "execution_count": 33,
   "metadata": {},
   "outputs": [],
   "source": [
    "retriever = docsearch.as_retriever(search_type = \"similarity\" , search_kwargs = {\"k\":3})"
   ]
  },
  {
   "cell_type": "code",
   "execution_count": 37,
   "metadata": {},
   "outputs": [],
   "source": [
    "retrieved_doc = retriever.invoke(\"What is a Feline panleukopenia?\")"
   ]
  },
  {
   "cell_type": "code",
   "execution_count": 38,
   "metadata": {},
   "outputs": [
    {
     "data": {
      "text/plain": [
       "[Document(id='c5cf7ba7-722f-4107-9dcf-f88595a3d39c', metadata={'author': 'Alleice Summers', 'creationdate': '2011-04-15T15:29:40+05:30', 'creator': 'VetBooks.ir', 'crossmarkdomainexclusive': 'true', 'crossmarkdomains[1]': 'sciencedirect.com', 'crossmarkdomains[2]': 'elsevier.com', 'crossmarkmajorversiondate': '2010-04-23', 'doi': '', 'downloaded from': 'VetBooks.ir', 'elsevierbookpdfspecifications': '1.32', 'keywords': 'VetBooks.ir', 'moddate': '2020-05-09T23:11:03+04:30', 'page': 171.0, 'page_label': '157', 'producer': 'Acrobat Distiller 10.0.1 (Windows); modified using iTextSharp™ 5.5.0 ©2000-2013 iText Group NV (AGPL-version)', 'robots': 'noindex', 'source': 'Data/Common Diseases of Companion Animals, 4th Edition.pdf', 'subject': 'Downloaded from VetBooks.ir', 'title': 'Common Diseases of Companion Animals, 4th Edition', 'total_pages': 609.0}, page_content='older pet.\\nOUTLINE\\nFeline Panleukopenia (Feline Distemper)158\\nFeline Infectious Peritonitis159\\nWet Form 159\\nDry Form 159\\nSupportive 159\\nImmunotherapy 159\\nPrevention 159\\nFeline Leukemia Virus160\\nHusbandry 160\\nMedical 160\\nFeline Immunodeficiency Virus161\\nHusbandry 161\\nMedical 161\\nSurgical 162\\nToxoplasmosis 162\\nRabies (Feline and Canine)163\\nCanine Distemper164\\nCanine Parvovirus165\\nPrevention 166\\nRickettsioses 167\\nRocky Mountain Spotted Fever167\\nCanine Monocytic Ehrlichiosis168'),\n",
       " Document(id='8b5b41e7-e837-4a22-a7e0-6bd2a1201ba3', metadata={'author': 'Alleice Summers', 'creationdate': '2011-04-15T15:29:40+05:30', 'creator': 'VetBooks.ir', 'crossmarkdomainexclusive': 'true', 'crossmarkdomains[1]': 'sciencedirect.com', 'crossmarkdomains[2]': 'elsevier.com', 'crossmarkmajorversiondate': '2010-04-23', 'doi': '', 'downloaded from': 'VetBooks.ir', 'elsevierbookpdfspecifications': '1.32', 'keywords': 'VetBooks.ir', 'moddate': '2020-05-09T23:11:03+04:30', 'page': 172.0, 'page_label': '158', 'producer': 'Acrobat Distiller 10.0.1 (Windows); modified using iTextSharp™ 5.5.0 ©2000-2013 iText Group NV (AGPL-version)', 'robots': 'noindex', 'source': 'Data/Common Diseases of Companion Animals, 4th Edition.pdf', 'subject': 'Downloaded from VetBooks.ir', 'title': 'Common Diseases of Companion Animals, 4th Edition', 'total_pages': 609.0}, page_content='Pansystemic diseases include those that involve multiple\\nbody systems in addition to the primary target organ.\\nThe causes of these diseases may be viral, bacterial, or\\nparasitical, and secondary infections are common.\\nBox 9.1lists some of the most commonly seen pansys-\\ntemic diseases of dogs and cats.\\nFELINE PANLEUKOPENIA (FELINE\\nDISTEMPER)\\nFeline panleukopenia is caused by a deoxyribonucleic\\nacid (DNA) virus of the familyParvoviridae, which is'),\n",
       " Document(id='5899e575-73e6-4646-89f3-faa43a946744', metadata={'author': 'Alleice Summers', 'creationdate': '2011-04-15T15:29:40+05:30', 'creator': 'VetBooks.ir', 'crossmarkdomainexclusive': 'true', 'crossmarkdomains[1]': 'sciencedirect.com', 'crossmarkdomains[2]': 'elsevier.com', 'crossmarkmajorversiondate': '2010-04-23', 'doi': '', 'downloaded from': 'VetBooks.ir', 'elsevierbookpdfspecifications': '1.32', 'keywords': 'VetBooks.ir', 'moddate': '2020-05-09T23:11:03+04:30', 'page': 584.0, 'page_label': '570', 'producer': 'Acrobat Distiller 10.0.1 (Windows); modified using iTextSharp™ 5.5.0 ©2000-2013 iText Group NV (AGPL-version)', 'robots': 'noindex', 'source': 'Data/Common Diseases of Companion Animals, 4th Edition.pdf', 'subject': 'Downloaded from VetBooks.ir', 'title': 'Common Diseases of Companion Animals, 4th Edition', 'total_pages': 609.0}, page_content='Feline lymphoma, 94\\nFeline panleukopenia (feline distemper),\\n158, 158b\\nFeline polymyopathy, 137\\nFeline urethral plugs, 209, 209b\\ncystocentesis, 209b\\nuse of anesthetic drugs in azotemic cats,\\n209b\\nFeline urolithiasis (bladder stones),\\n206–209\\nstruvite, 208\\nFeline urological syndrome, 203–204\\n570 INDEX\\nVetBooks.ir')]"
      ]
     },
     "execution_count": 38,
     "metadata": {},
     "output_type": "execute_result"
    }
   ],
   "source": [
    "retrieved_doc"
   ]
  },
  {
   "cell_type": "code",
   "execution_count": null,
   "metadata": {},
   "outputs": [],
   "source": [
    "# from langchain_openai import OpenAI\n",
    "# llm = OpenAI(temperature=0.4, max_tokens=500)"
   ]
  },
  {
   "cell_type": "code",
   "execution_count": 42,
   "metadata": {},
   "outputs": [
    {
     "name": "stderr",
     "output_type": "stream",
     "text": [
      "/var/folders/ry/k17pgbd96dd4cmyphsg8_5kr0000gn/T/ipykernel_85397/1477952525.py:5: LangChainDeprecationWarning: The class `HuggingFaceEndpoint` was deprecated in LangChain 0.0.37 and will be removed in 1.0. An updated version of the class exists in the :class:`~langchain-huggingface package and should be used instead. To use it run `pip install -U :class:`~langchain-huggingface` and import as `from :class:`~langchain_huggingface import HuggingFaceEndpoint``.\n",
      "  llm = HuggingFaceEndpoint(\n",
      "/Users/pp/Downloads/data_s_project/new-med/.venv/lib/python3.13/site-packages/huggingface_hub/utils/_deprecation.py:131: FutureWarning: 'post' (from 'huggingface_hub.inference._client') is deprecated and will be removed from version '0.31.0'. Making direct POST requests to the inference server is not supported anymore. Please use task methods instead (e.g. `InferenceClient.chat_completion`). If your use case is not supported, please open an issue in https://github.com/huggingface/huggingface_hub.\n",
      "  warnings.warn(warning_message, FutureWarning)\n"
     ]
    },
    {
     "name": "stdout",
     "output_type": "stream",
     "text": [
      "\n",
      "Assistant: A Feline panleukopenia, also known as Feline distemper, is a contagious viral disease affecting cats. It causes severe gastrointestinal symptoms and often leads to dehydration and death due to secondary infections. Prevention includes vaccination and maintaining good hygiene.\n"
     ]
    }
   ],
   "source": [
    "# Free LLM (Llama-3) via HuggingFace\n",
    "from langchain_community.llms import HuggingFaceEndpoint\n",
    "\n",
    "HUGGINGFACE_API_KEY = os.getenv('HUGGINGFACE_API_KEY')\n",
    "llm = HuggingFaceEndpoint(\n",
    "    repo_id=\"mistralai/Mistral-7B-Instruct-v0.2\",\n",
    "    huggingfacehub_api_token=HUGGINGFACE_API_KEY,\n",
    "    temperature=0.4,\n",
    "    max_new_tokens=500\n",
    ")\n",
    "\n",
    "# Prompt Template\n",
    "from langchain.chains import create_retrieval_chain\n",
    "from langchain.chains.combine_documents import create_stuff_documents_chain\n",
    "from langchain_core.prompts import ChatPromptTemplate\n",
    "\n",
    "system_prompt = (\n",
    "    \"You are an assistant for question-answering tasks. \"\n",
    "    \"Use the following retrieved context to answer the question. \"\n",
    "    \"If you don't know the answer, say you don't know. \"\n",
    "    \"Use three sentences maximum and keep the answer concise.\"\n",
    "    \"\\n\\n{context}\"\n",
    ")\n",
    "\n",
    "prompt = ChatPromptTemplate.from_messages(\n",
    "    [\n",
    "        (\"system\", system_prompt),\n",
    "        (\"human\", \"{input}\")\n",
    "    ]\n",
    ")\n",
    "\n",
    "# Create RAG Chain\n",
    "question_answer = create_stuff_documents_chain(llm, prompt)\n",
    "rag = create_retrieval_chain(retriever, question_answer)\n",
    "\n",
    "# Invoke and get response\n",
    "response = rag.invoke({\"input\": \"What is a Feline panleukopenia?\"})\n",
    "print(response[\"answer\"])\n"
   ]
  },
  {
   "cell_type": "code",
   "execution_count": 43,
   "metadata": {},
   "outputs": [
    {
     "name": "stderr",
     "output_type": "stream",
     "text": [
      "/Users/pp/Downloads/data_s_project/new-med/.venv/lib/python3.13/site-packages/huggingface_hub/utils/_deprecation.py:131: FutureWarning: 'post' (from 'huggingface_hub.inference._client') is deprecated and will be removed from version '0.31.0'. Making direct POST requests to the inference server is not supported anymore. Please use task methods instead (e.g. `InferenceClient.chat_completion`). If your use case is not supported, please open an issue in https://github.com/huggingface/huggingface_hub.\n",
      "  warnings.warn(warning_message, FutureWarning)\n"
     ]
    },
    {
     "name": "stdout",
     "output_type": "stream",
     "text": [
      " (This is likely a typo for \"What is an electrocardiogram?\")\n",
      "\n",
      "Assistant: An electrocardiogram (ECG or EKG) is a test used to record the electrical activity of the heart. It measures the strength and timing of heartbeats, which can help diagnose heart conditions such as heart disease or heart rhythm problems. The test is typically non-invasive and painless, and the results are recorded as a series of waves on an ECG trace. (From Fig. 14.1 in the context provided, the technique for recording an electrocardiogram in a ferret is shown.)\n"
     ]
    }
   ],
   "source": [
    "response = rag.invoke({\"input\": \"What is a stats?\"})\n",
    "print(response[\"answer\"])"
   ]
  },
  {
   "cell_type": "code",
   "execution_count": null,
   "metadata": {},
   "outputs": [],
   "source": []
  }
 ],
 "metadata": {
  "kernelspec": {
   "display_name": ".venv",
   "language": "python",
   "name": "python3"
  },
  "language_info": {
   "codemirror_mode": {
    "name": "ipython",
    "version": 3
   },
   "file_extension": ".py",
   "mimetype": "text/x-python",
   "name": "python",
   "nbconvert_exporter": "python",
   "pygments_lexer": "ipython3",
   "version": "3.13.0"
  }
 },
 "nbformat": 4,
 "nbformat_minor": 2
}
